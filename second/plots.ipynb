{
 "cells": [
  {
   "cell_type": "code",
   "execution_count": 162,
   "id": "9a35fd91",
   "metadata": {},
   "outputs": [],
   "source": [
    "import pandas as pd\n",
    "import numpy as np\n",
    "import matplotlib\n",
    "import matplotlib.pyplot as plt\n",
    "import copy\n",
    "from scipy.optimize import curve_fit\n",
    "from tqdm import tqdm\n",
    "\n"
   ]
  },
  {
   "cell_type": "code",
   "execution_count": 166,
   "id": "9c8041fb",
   "metadata": {},
   "outputs": [
    {
     "name": "stderr",
     "output_type": "stream",
     "text": [
      " 11%|████████▌                                                                      | 109/1000 [00:34<04:44,  3.14it/s]\n"
     ]
    },
    {
     "ename": "KeyboardInterrupt",
     "evalue": "",
     "output_type": "error",
     "traceback": [
      "\u001b[1;31m---------------------------------------------------------------------------\u001b[0m",
      "\u001b[1;31mKeyboardInterrupt\u001b[0m                         Traceback (most recent call last)",
      "\u001b[1;32m<ipython-input-166-567381e68b6b>\u001b[0m in \u001b[0;36m<module>\u001b[1;34m\u001b[0m\n\u001b[0;32m     14\u001b[0m \u001b[1;33m\u001b[0m\u001b[0m\n\u001b[0;32m     15\u001b[0m     \u001b[1;32mfor\u001b[0m \u001b[0mi\u001b[0m \u001b[1;32min\u001b[0m \u001b[0mrange\u001b[0m\u001b[1;33m(\u001b[0m\u001b[1;36m128000\u001b[0m\u001b[1;33m)\u001b[0m\u001b[1;33m:\u001b[0m  \u001b[1;31m# возникает outofrange - временных шагов больше, чем 100\u001b[0m\u001b[1;33m\u001b[0m\u001b[1;33m\u001b[0m\u001b[0m\n\u001b[1;32m---> 16\u001b[1;33m         \u001b[0mline\u001b[0m \u001b[1;33m=\u001b[0m \u001b[0mfile\u001b[0m\u001b[1;33m.\u001b[0m\u001b[0mreadline\u001b[0m\u001b[1;33m(\u001b[0m\u001b[1;33m)\u001b[0m\u001b[1;33m\u001b[0m\u001b[1;33m\u001b[0m\u001b[0m\n\u001b[0m\u001b[0;32m     17\u001b[0m         \u001b[0mspline\u001b[0m \u001b[1;33m=\u001b[0m \u001b[0mline\u001b[0m\u001b[1;33m.\u001b[0m\u001b[0msplit\u001b[0m\u001b[1;33m(\u001b[0m\u001b[1;33m)\u001b[0m\u001b[1;33m\u001b[0m\u001b[1;33m\u001b[0m\u001b[0m\n\u001b[0;32m     18\u001b[0m         \u001b[0mdataDict\u001b[0m\u001b[1;33m[\u001b[0m\u001b[0mstep\u001b[0m\u001b[1;33m]\u001b[0m\u001b[1;33m[\u001b[0m\u001b[0mi\u001b[0m\u001b[1;33m]\u001b[0m\u001b[1;33m[\u001b[0m\u001b[1;36m0\u001b[0m\u001b[1;33m]\u001b[0m \u001b[1;33m=\u001b[0m \u001b[0mspline\u001b[0m\u001b[1;33m[\u001b[0m\u001b[1;36m1\u001b[0m\u001b[1;33m]\u001b[0m\u001b[1;33m\u001b[0m\u001b[1;33m\u001b[0m\u001b[0m\n",
      "\u001b[1;32m~\\anaconda3\\lib\\encodings\\cp1251.py\u001b[0m in \u001b[0;36mdecode\u001b[1;34m(self, input, final)\u001b[0m\n\u001b[0;32m     20\u001b[0m \u001b[1;33m\u001b[0m\u001b[0m\n\u001b[0;32m     21\u001b[0m \u001b[1;32mclass\u001b[0m \u001b[0mIncrementalDecoder\u001b[0m\u001b[1;33m(\u001b[0m\u001b[0mcodecs\u001b[0m\u001b[1;33m.\u001b[0m\u001b[0mIncrementalDecoder\u001b[0m\u001b[1;33m)\u001b[0m\u001b[1;33m:\u001b[0m\u001b[1;33m\u001b[0m\u001b[1;33m\u001b[0m\u001b[0m\n\u001b[1;32m---> 22\u001b[1;33m     \u001b[1;32mdef\u001b[0m \u001b[0mdecode\u001b[0m\u001b[1;33m(\u001b[0m\u001b[0mself\u001b[0m\u001b[1;33m,\u001b[0m \u001b[0minput\u001b[0m\u001b[1;33m,\u001b[0m \u001b[0mfinal\u001b[0m\u001b[1;33m=\u001b[0m\u001b[1;32mFalse\u001b[0m\u001b[1;33m)\u001b[0m\u001b[1;33m:\u001b[0m\u001b[1;33m\u001b[0m\u001b[1;33m\u001b[0m\u001b[0m\n\u001b[0m\u001b[0;32m     23\u001b[0m         \u001b[1;32mreturn\u001b[0m \u001b[0mcodecs\u001b[0m\u001b[1;33m.\u001b[0m\u001b[0mcharmap_decode\u001b[0m\u001b[1;33m(\u001b[0m\u001b[0minput\u001b[0m\u001b[1;33m,\u001b[0m\u001b[0mself\u001b[0m\u001b[1;33m.\u001b[0m\u001b[0merrors\u001b[0m\u001b[1;33m,\u001b[0m\u001b[0mdecoding_table\u001b[0m\u001b[1;33m)\u001b[0m\u001b[1;33m[\u001b[0m\u001b[1;36m0\u001b[0m\u001b[1;33m]\u001b[0m\u001b[1;33m\u001b[0m\u001b[1;33m\u001b[0m\u001b[0m\n\u001b[0;32m     24\u001b[0m \u001b[1;33m\u001b[0m\u001b[0m\n",
      "\u001b[1;31mKeyboardInterrupt\u001b[0m: "
     ]
    }
   ],
   "source": [
    "# Считывание данных\n",
    "\n",
    "file = open(\"atom.data\", \"r\")\n",
    "time = np.linspace(0,999,1000,dtype=int)\n",
    "r0 = np.zeros((128000,3))\n",
    "dataDict = {}\n",
    "counter = 0\n",
    "counter1 = 0\n",
    "for step in tqdm(time): # тут все это повторяется для этих 1000 шагов\n",
    "    dataDict[step] = np.zeros((128000,3))\n",
    "    for i in range(9):\n",
    "        line = file.readline()\n",
    "        counter1 = counter1 + 1\n",
    "        \n",
    "    for i in range(128000):  # возникает outofrange - временных шагов больше, чем 100\n",
    "        line = file.readline()\n",
    "        spline = line.split()\n",
    "        dataDict[step][i][0] = spline[1]\n",
    "        dataDict[step][i][1] = spline[2]\n",
    "        dataDict[step][i][2] = spline[3]\n",
    "       \n",
    "    if(step == 0):\n",
    "        r0 = dataDict[0]\n",
    "    \n",
    "    # сформировали файл смещений\n",
    "    dataDict[step] = dataDict[step] - r0"
   ]
  },
  {
   "cell_type": "code",
   "execution_count": null,
   "id": "e75fc185",
   "metadata": {},
   "outputs": [],
   "source": [
    "# ВАРИАНТ 1\n",
    "\n",
    "uk1 = np.zeros(1000)\n",
    "# ЗАДАЕМ ТУТ ОДИН РАЗ\n",
    "ek = np.array([1,0,0])\n",
    "\n",
    "# тут построить разные е или к\n",
    "k = np.array([1 * 1.551,0,0])\n",
    "i = 0\n",
    "for step in tqdm(time):\n",
    "    for j in range(128000):\n",
    "        uk1[i] += np.dot(dataDict[step][j],ek) * np.cos(np.dot(k,r0[j]))/128000\n",
    "    i = i + 1\n",
    "        \n",
    "freq1 = np.linspace(0, 10, 10000)\n",
    "uk_nu = np.zeros(10000)\n",
    "for i in tqdm(range(10000)):\n",
    "    for step in time:\n",
    "        uk_nu[i] = uk_nu[i] + (uk1[step] * np.cos(2 * math.pi * freq1[i] * step * 0.010))/1000\n",
    " \n",
    "\n",
    "\n",
    "\n"
   ]
  },
  {
   "cell_type": "code",
   "execution_count": 122,
   "id": "d89bfc83",
   "metadata": {},
   "outputs": [
    {
     "name": "stdout",
     "output_type": "stream",
     "text": [
      "0 100 200 300 400 500 600 700 800 900 1000 1100 1200 1300 1400 1500 1600 1700 1800 1900 2000 2100 2200 2300 2400 2500 2600 2700 2800 2900 3000 3100 3200 3300 3400 3500 3600 3700 3800 3900 4000 4100 4200 4300 4400 4500 4600 4700 4800 4900 5000 5100 5200 5300 5400 5500 5600 5700 5800 5900 6000 6100 6200 6300 6400 6500 6600 6700 6800 6900 7000 7100 7200 7300 7400 7500 7600 7700 7800 7900 8000 8100 8200 8300 8400 8500 8600 8700 8800 8900 9000 9100 9200 9300 9400 9500 9600 9700 9800 9900 "
     ]
    }
   ],
   "source": [
    "\n",
    "# ВАРИАНТ 2\n",
    "\n",
    "uk_08 = np.zeros(1000)\n",
    "k_08 = np.array([0.8 * 1.838,0,0])\n",
    "i = 0\n",
    "for step in tqdm(time):\n",
    "    for j in range(128000):\n",
    "        uk_08[i] += np.dot(dataDict[step][j],ek) * np.cos(np.dot(k_08,r0[j]))/128000\n",
    "    i = i + 1\n",
    "\n",
    "uk_nu08 = np.zeros(10000)\n",
    "for i in tqdm(range(10000)):\n",
    "    for step in time:\n",
    "        uk_nu08[i] = uk_nu08[i] + (uk_08[step] * np.cos(2 * math.pi * freq1[i] * step * 0.010))/1000\n"
   ]
  },
  {
   "cell_type": "code",
   "execution_count": null,
   "id": "2b3aecf1",
   "metadata": {},
   "outputs": [],
   "source": [
    "# ВАРИАНТ 3\n",
    "\n",
    "# k = [0.6, 0, 0]\n",
    "uk_06 = np.zeros(1000)\n",
    "k_06 = np.array([0.6 * 1.838,0,0])\n",
    "i = 0\n",
    "for step in tdqm(time):\n",
    "    for j in range(128000):\n",
    "        uk_06[i] += np.dot(dataDict[step][j],ek) * np.cos(np.dot(k_06,r0[j]))/128000\n",
    "    i = i + 1\n",
    "    \n",
    "uk_nu06 = np.zeros(10000)\n",
    "\n",
    "for i in tqdm(range(10000)):\n",
    "    for step in time:\n",
    "        uk_nu06[i] = uk_nu06[i] + (uk_06[step] * np.cos(2 * math.pi * freq1[i] * step * 0.010))/1000\n",
    "        "
   ]
  },
  {
   "cell_type": "code",
   "execution_count": 124,
   "id": "4867121b",
   "metadata": {},
   "outputs": [
    {
     "name": "stdout",
     "output_type": "stream",
     "text": [
      "0 1 2 3 4 5 6 7 8 9 10 11 12 13 14 15 16 17 18 19 20 21 22 23 24 25 26 27 28 29 30 31 32 33 34 35 36 37 38 39 40 41 42 43 44 45 46 47 48 49 50 51 52 53 54 55 56 57 58 59 60 61 62 63 64 65 66 67 68 69 70 71 72 73 74 75 76 77 78 79 80 81 82 83 84 85 86 87 88 89 90 91 92 93 94 95 96 97 98 99 100 101 102 103 104 105 106 107 108 109 110 111 112 113 114 115 116 117 118 119 120 121 122 123 124 125 126 127 128 129 130 131 132 133 134 135 136 137 138 139 140 141 142 143 144 145 146 147 148 149 150 151 152 153 154 155 156 157 158 159 160 161 162 163 164 165 166 167 168 169 170 171 172 173 174 175 176 177 178 179 180 181 182 183 184 185 186 187 188 189 190 191 192 193 194 195 196 197 198 199 200 201 202 203 204 205 206 207 208 209 210 211 212 213 214 215 216 217 218 219 220 221 222 223 224 225 226 227 228 229 230 231 232 233 234 235 236 237 238 239 240 241 242 243 244 245 246 247 248 249 250 251 252 253 254 255 256 257 258 259 260 261 262 263 264 265 266 267 268 269 270 271 272 273 274 275 276 277 278 279 280 281 282 283 284 285 286 287 288 289 290 291 292 293 294 295 296 297 298 299 300 301 302 303 304 305 306 307 308 309 310 311 312 313 314 315 316 317 318 319 320 321 322 323 324 325 326 327 328 329 330 331 332 333 334 335 336 337 338 339 340 341 342 343 344 345 346 347 348 349 350 351 352 353 354 355 356 357 358 359 360 361 362 363 364 365 366 367 368 369 370 371 372 373 374 375 376 377 378 379 380 381 382 383 384 385 386 387 388 389 390 391 392 393 394 395 396 397 398 399 400 401 402 403 404 405 406 407 408 409 410 411 412 413 414 415 416 417 418 419 420 421 422 423 424 425 426 427 428 429 430 431 432 433 434 435 436 437 438 439 440 441 442 443 444 445 446 447 448 449 450 451 452 453 454 455 456 457 458 459 460 461 462 463 464 465 466 467 468 469 470 471 472 473 474 475 476 477 478 479 480 481 482 483 484 485 486 487 488 489 490 491 492 493 494 495 496 497 498 499 500 501 502 503 504 505 506 507 508 509 510 511 512 513 514 515 516 517 518 519 520 521 522 523 524 525 526 527 528 529 530 531 532 533 534 535 536 537 538 539 540 541 542 543 544 545 546 547 548 549 550 551 552 553 554 555 556 557 558 559 560 561 562 563 564 565 566 567 568 569 570 571 572 573 574 575 576 577 578 579 580 581 582 583 584 585 586 587 588 589 590 591 592 593 594 595 596 597 598 599 600 601 602 603 604 605 606 607 608 609 610 611 612 613 614 615 616 617 618 619 620 621 622 623 624 625 626 627 628 629 630 631 632 633 634 635 636 637 638 639 640 641 642 643 644 645 646 647 648 649 650 651 652 653 654 655 656 657 658 659 660 661 662 663 664 665 666 667 668 669 670 671 672 673 674 675 676 677 678 679 680 681 682 683 684 685 686 687 688 689 690 691 692 693 694 695 696 697 698 699 700 701 702 703 704 705 706 707 708 709 710 711 712 713 714 715 716 717 718 719 720 721 722 723 724 725 726 727 728 729 730 731 732 733 734 735 736 737 738 739 740 741 742 743 744 745 746 747 748 749 750 751 752 753 754 755 756 757 758 759 760 761 762 763 764 765 766 767 768 769 770 771 772 773 774 775 776 777 778 779 780 781 782 783 784 785 786 787 788 789 790 791 792 793 794 795 796 797 798 799 800 801 802 803 804 805 806 807 808 809 810 811 812 813 814 815 816 817 818 819 820 821 822 823 824 825 826 827 828 829 830 831 832 833 834 835 836 837 838 839 840 841 842 843 844 845 846 847 848 849 850 851 852 853 854 855 856 857 858 859 860 861 862 863 864 865 866 867 868 869 870 871 872 873 874 875 876 877 878 879 880 881 882 883 884 885 886 887 888 889 890 891 892 893 894 895 896 897 898 899 900 901 902 903 904 905 906 907 908 909 910 911 912 913 914 915 916 917 918 919 920 921 922 923 924 925 926 927 928 929 930 931 932 933 934 935 936 937 938 939 940 941 942 943 944 945 946 947 948 949 950 951 952 953 954 955 956 957 958 959 960 961 962 963 964 965 966 967 968 969 970 971 972 973 974 975 976 977 978 979 980 981 982 983 984 985 986 987 988 989 990 991 992 993 994 995 996 997 998 999 0 100 200 300 400 500 600 700 800 900 1000 1100 1200 1300 1400 1500 1600 1700 1800 1900 2000 2100 2200 2300 2400 2500 2600 2700 2800 2900 3000 3100 3200 3300 3400 3500 3600 3700 3800 3900 4000 4100 4200 4300 4400 4500 4600 4700 4800 4900 5000 5100 5200 5300 5400 5500 5600 5700 5800 5900 6000 6100 6200 6300 6400 6500 6600 6700 6800 6900 7000 7100 7200 7300 7400 7500 7600 7700 7800 7900 8000 8100 8200 8300 8400 8500 8600 8700 8800 8900 9000 9100 9200 9300 9400 9500 9600 9700 9800 9900 "
     ]
    }
   ],
   "source": [
    "\n",
    "# ВАРИАНТ 4\n",
    "\n",
    "# k = [0.4, 0, 0]\n",
    "\n",
    "uk_04= np.zeros(1000)\n",
    "k_04 = np.array([0.4 * 1.838,0,0])\n",
    "i = 0\n",
    "for step in tqdm(time):\n",
    "    for j in range(128000):\n",
    "        uk_04[i] += np.dot(dataDict[step][j], ek) * np.cos(np.dot(k_04,r0[j]))/128000\n",
    "    i = i + 1\n",
    "\n",
    "freq1 = np.linspace(0, 10, 10000)\n",
    "uk_nu04 = np.zeros(10000)\n",
    "for i in tqdm(range(10000)):\n",
    "    for step in time:\n",
    "        uk_nu04[i] = uk_nu04[i] + (uk_04[step] * np.cos(2 * math.pi * freq1[i] * step * 0.010))/1000\n",
    "\n"
   ]
  },
  {
   "cell_type": "code",
   "execution_count": 125,
   "id": "f152593d",
   "metadata": {},
   "outputs": [
    {
     "name": "stdout",
     "output_type": "stream",
     "text": [
      "0 1 2 3 4 5 6 7 8 9 10 11 12 13 14 15 16 17 18 19 20 21 22 23 24 25 26 27 28 29 30 31 32 33 34 35 36 37 38 39 40 41 42 43 44 45 46 47 48 49 50 51 52 53 54 55 56 57 58 59 60 61 62 63 64 65 66 67 68 69 70 71 72 73 74 75 76 77 78 79 80 81 82 83 84 85 86 87 88 89 90 91 92 93 94 95 96 97 98 99 100 101 102 103 104 105 106 107 108 109 110 111 112 113 114 115 116 117 118 119 120 121 122 123 124 125 126 127 128 129 130 131 132 133 134 135 136 137 138 139 140 141 142 143 144 145 146 147 148 149 150 151 152 153 154 155 156 157 158 159 160 161 162 163 164 165 166 167 168 169 170 171 172 173 174 175 176 177 178 179 180 181 182 183 184 185 186 187 188 189 190 191 192 193 194 195 196 197 198 199 200 201 202 203 204 205 206 207 208 209 210 211 212 213 214 215 216 217 218 219 220 221 222 223 224 225 226 227 228 229 230 231 232 233 234 235 236 237 238 239 240 241 242 243 244 245 246 247 248 249 250 251 252 253 254 255 256 257 258 259 260 261 262 263 264 265 266 267 268 269 270 271 272 273 274 275 276 277 278 279 280 281 282 283 284 285 286 287 288 289 290 291 292 293 294 295 296 297 298 299 300 301 302 303 304 305 306 307 308 309 310 311 312 313 314 315 316 317 318 319 320 321 322 323 324 325 326 327 328 329 330 331 332 333 334 335 336 337 338 339 340 341 342 343 344 345 346 347 348 349 350 351 352 353 354 355 356 357 358 359 360 361 362 363 364 365 366 367 368 369 370 371 372 373 374 375 376 377 378 379 380 381 382 383 384 385 386 387 388 389 390 391 392 393 394 395 396 397 398 399 400 401 402 403 404 405 406 407 408 409 410 411 412 413 414 415 416 417 418 419 420 421 422 423 424 425 426 427 428 429 430 431 432 433 434 435 436 437 438 439 440 441 442 443 444 445 446 447 448 449 450 451 452 453 454 455 456 457 458 459 460 461 462 463 464 465 466 467 468 469 470 471 472 473 474 475 476 477 478 479 480 481 482 483 484 485 486 487 488 489 490 491 492 493 494 495 496 497 498 499 500 501 502 503 504 505 506 507 508 509 510 511 512 513 514 515 516 517 518 519 520 521 522 523 524 525 526 527 528 529 530 531 532 533 534 535 536 537 538 539 540 541 542 543 544 545 546 547 548 549 550 551 552 553 554 555 556 557 558 559 560 561 562 563 564 565 566 567 568 569 570 571 572 573 574 575 576 577 578 579 580 581 582 583 584 585 586 587 588 589 590 591 592 593 594 595 596 597 598 599 600 601 602 603 604 605 606 607 608 609 610 611 612 613 614 615 616 617 618 619 620 621 622 623 624 625 626 627 628 629 630 631 632 633 634 635 636 637 638 639 640 641 642 643 644 645 646 647 648 649 650 651 652 653 654 655 656 657 658 659 660 661 662 663 664 665 666 667 668 669 670 671 672 673 674 675 676 677 678 679 680 681 682 683 684 685 686 687 688 689 690 691 692 693 694 695 696 697 698 699 700 701 702 703 704 705 706 707 708 709 710 711 712 713 714 715 716 717 718 719 720 721 722 723 724 725 726 727 728 729 730 731 732 733 734 735 736 737 738 739 740 741 742 743 744 745 746 747 748 749 750 751 752 753 754 755 756 757 758 759 760 761 762 763 764 765 766 767 768 769 770 771 772 773 774 775 776 777 778 779 780 781 782 783 784 785 786 787 788 789 790 791 792 793 794 795 796 797 798 799 800 801 802 803 804 805 806 807 808 809 810 811 812 813 814 815 816 817 818 819 820 821 822 823 824 825 826 827 828 829 830 831 832 833 834 835 836 837 838 839 840 841 842 843 844 845 846 847 848 849 850 851 852 853 854 855 856 857 858 859 860 861 862 863 864 865 866 867 868 869 870 871 872 873 874 875 876 877 878 879 880 881 882 883 884 885 886 887 888 889 890 891 892 893 894 895 896 897 898 899 900 901 902 903 904 905 906 907 908 909 910 911 912 913 914 915 916 917 918 919 920 921 922 923 924 925 926 927 928 929 930 931 932 933 934 935 936 937 938 939 940 941 942 943 944 945 946 947 948 949 950 951 952 953 954 955 956 957 958 959 960 961 962 963 964 965 966 967 968 969 970 971 972 973 974 975 976 977 978 979 980 981 982 983 984 985 986 987 988 989 990 991 992 993 994 995 996 997 998 999 0 100 200 300 400 500 600 700 800 900 1000 1100 1200 1300 1400 1500 1600 1700 1800 1900 2000 2100 2200 2300 2400 2500 2600 2700 2800 2900 3000 3100 3200 3300 3400 3500 3600 3700 3800 3900 4000 4100 4200 4300 4400 4500 4600 4700 4800 4900 5000 5100 5200 5300 5400 5500 5600 5700 5800 5900 6000 6100 6200 6300 6400 6500 6600 6700 6800 6900 7000 7100 7200 7300 7400 7500 7600 7700 7800 7900 8000 8100 8200 8300 8400 8500 8600 8700 8800 8900 9000 9100 9200 9300 9400 9500 9600 9700 9800 9900 "
     ]
    }
   ],
   "source": [
    "# ВАРИАНТ 5\n",
    "# k = [0.2, 0, 0]\n",
    "\n",
    "uk_02= np.zeros(1000)\n",
    "k_02 = np.array([0.2 * 1.838,0,0])\n",
    "i = 0\n",
    "for step in tqdm(time):\n",
    "    for j in range(128000):\n",
    "        uk_02[i] += np.dot(dataDict[step][j], ek) * np.cos(np.dot(k_02,r0[j]))/128000\n",
    "    i = i + 1\n",
    "\n",
    "freq1 = np.linspace(0, 10, 10000)\n",
    "uk_nu02 = np.zeros(10000)\n",
    "for i in tqdm(range(10000)):\n",
    "    for step in time:\n",
    "        uk_nu02[i] = uk_nu02[i] + (uk_02[step] * np.cos(2 * math.pi * freq1[i] * step * 0.010))/1000\n",
    "\n",
    "\n",
    "\n",
    "\n"
   ]
  },
  {
   "cell_type": "code",
   "execution_count": 149,
   "id": "549f30e5",
   "metadata": {},
   "outputs": [
    {
     "data": {
      "image/png": "[encoded data removed]",
      "text/plain": [
       "<Figure size 432x288 with 1 Axes>"
      ]
     },
     "metadata": {
      "needs_background": "light"
     },
     "output_type": "display_data"
    }
   ],
   "source": [
    "plt.plot(freq1,np.abs(uk_nu), label = \"k = 1\")\n",
    "#plt.plot(freq1,np.abs(uk_nu08), label = \"k = 0.8\" )\n",
    "#plt.plot(freq1,np.abs(uk_nu06), label = \"k = 0.6\" )\n",
    "#plt.plot(freq1,np.abs(uk_nu04), label = \"k = 0.4\" )\n",
    "#plt.plot(freq1,np.abs(uk_nu02), label = \"k = 0.2\" )\n",
    "plt.legend()\n",
    "plt.xlabel(\"$\\\\nu$, THz\")\n",
    "plt.ylabel(\"$|u_{\\\\nu}|$\")\n",
    "plt.savefig(\"plot20_.png\") \n",
    "plt.title('$e_{k}$ = [0, 1, 1]')\n",
    "plt.show()"
   ]
  },
  {
   "cell_type": "code",
   "execution_count": 127,
   "id": "a5439c81",
   "metadata": {},
   "outputs": [
    {
     "name": "stderr",
     "output_type": "stream",
     "text": [
      "100%|██████████████████████████████████████████████████████████████████████████████| 1000/1000 [15:57<00:00,  1.04it/s]\n"
     ]
    },
    {
     "name": "stdout",
     "output_type": "stream",
     "text": [
      "0 100 200 300 400 500 600 700 800 900 1000 1100 1200 1300 1400 1500 1600 1700 1800 1900 2000 2100 2200 2300 2400 2500 2600 2700 2800 2900 3000 3100 3200 3300 3400 3500 3600 3700 3800 3900 4000 4100 4200 4300 4400 4500 4600 4700 4800 4900 5000 5100 5200 5300 5400 5500 5600 5700 5800 5900 6000 6100 6200 6300 6400 6500 6600 6700 6800 6900 7000 7100 7200 7300 7400 7500 7600 7700 7800 7900 8000 8100 8200 8300 8400 8500 8600 8700 8800 8900 9000 9100 9200 9300 9400 9500 9600 9700 9800 9900 "
     ]
    }
   ],
   "source": [
    "# ВАРИАНТ 4\n",
    "# k = [0.2, 0, 0]\n",
    "from tqdm import tqdm\n",
    "uk_02= np.zeros(1000)\n",
    "ek = np.array([0,1,1])\n",
    "\n",
    "# тут построить разные е или к\n",
    "# С = 2pi/a = 2pi/3.417 = 1.838\n",
    "k_02 = np.array([0.2 * 1.838,0,0])\n",
    "i = 0\n",
    "for step in tqdm(time):\n",
    "    for j in range(128000):\n",
    "        uk_02[i] += np.dot(dataDict[step][j], ek) * np.cos(np.dot(k_02,r0[j]))/128000\n",
    "    i = i + 1\n",
    "    #print(step, end = \" \")\n",
    "\n",
    "\n",
    "import math\n",
    "freq1 = np.linspace(0, 10, 10000)\n",
    "uk_nu02 = np.zeros(10000)\n",
    "for i in range(10000):\n",
    "    if (i%100 == 0):\n",
    "        print(i, end= \" \")\n",
    "    for step in time:\n",
    "        uk_nu02[i] = uk_nu02[i] + (uk_02[step] * np.cos(2 * math.pi * freq1[i] * step * 0.010))/1000"
   ]
  },
  {
   "cell_type": "code",
   "execution_count": 173,
   "id": "e18eae48",
   "metadata": {},
   "outputs": [
    {
     "name": "stderr",
     "output_type": "stream",
     "text": [
      "No handles with labels found to put in legend.\n"
     ]
    },
    {
     "data": {
      "image/png": "[encoded data removed]",
      "text/plain": [
       "<Figure size 288x432 with 1 Axes>"
      ]
     },
     "metadata": {
      "needs_background": "light"
     },
     "output_type": "display_data"
    }
   ],
   "source": [
    "nu = np.array([0.4, 2.0, 3.2, 2.6, 1.8])*4.12\n",
    "k = [0.2, 0.4, 0.6, 0.8, 1.0]\n",
    "plt.figure(figsize=[4,6])\n",
    "plt.plot(k, nu, '.')\n",
    "plt.xlabel(\"k, $\\\\frac{1}{A}$\")\n",
    "plt.ylabel(\"nu, meV\")\n",
    "plt.savefig(\"phonon_spector1.png\") \n",
    "plt.title('Фононный спектр $e_{k} = [1, 0, 0] k = [1, 0, 0]$')\n",
    "plt.show()\n",
    "\n",
    "\n"
   ]
  },
  {
   "cell_type": "code",
   "execution_count": 157,
   "id": "e01106d0",
   "metadata": {},
   "outputs": [
    {
     "name": "stderr",
     "output_type": "stream",
     "text": [
      "No handles with labels found to put in legend.\n"
     ]
    },
    {
     "data": {
      "image/png": "[encoded data removed]",
      "text/plain": [
       "<Figure size 432x288 with 1 Axes>"
      ]
     },
     "metadata": {
      "needs_background": "light"
     },
     "output_type": "display_data"
    }
   ],
   "source": [
    "nu = [0.2, 1.0, 1.2, 3.0, 0.9]\n",
    "k = [0.2, 0.4, 0.6, 0.8, 1.0]\n",
    "plt.plot(k, nu, '.')\n",
    "plt.xlabel(\"k, $\\\\frac{1}{A}$\")\n",
    "plt.ylabel(\"nu, THz\")\n",
    "plt.savefig(\"phonon_spector2.png\") \n",
    "plt.title('Фононный спектр $e_{k} = [0, 1, 1] k = [1, 0, 0]$')\n",
    "plt.show()"
   ]
  }
 ],
 "metadata": {
  "kernelspec": {
   "display_name": "Python 3 (ipykernel)",
   "language": "python",
   "name": "python3"
  },
  "language_info": {
   "codemirror_mode": {
    "name": "ipython",
    "version": 3
   },
   "file_extension": ".py",
   "mimetype": "text/x-python",
   "name": "python",
   "nbconvert_exporter": "python",
   "pygments_lexer": "ipython3",
   "version": "3.8.10"
  }
 },
 "nbformat": 4,
 "nbformat_minor": 5
}
